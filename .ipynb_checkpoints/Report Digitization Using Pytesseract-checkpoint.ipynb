{
 "cells": [
  {
   "cell_type": "code",
   "execution_count": 23,
   "metadata": {},
   "outputs": [],
   "source": [
    "#Importing Required Packages\n",
    "\n",
    "from PIL import Image\n",
    "import pytesseract\n",
    "import configuration\n",
    "import sqlite3"
   ]
  },
  {
   "cell_type": "code",
   "execution_count": 37,
   "metadata": {},
   "outputs": [],
   "source": [
    "#This function will handle the OCR processing of images\n",
    "\n",
    "def ocr_processing(filename):\n",
    "    \n",
    "    text = pytesseract.image_to_string (Image.open(filename),config='--psm 12 --oem 3')  # We'll use Pillow's Image class to open the image and pytesseract to detect the string in the image\n",
    "           \n",
    "    return text"
   ]
  },
  {
   "cell_type": "code",
   "execution_count": 45,
   "metadata": {},
   "outputs": [],
   "source": [
    "def file_processing(filename): \n",
    "    \n",
    "    try:      \n",
    "        \n",
    "\n",
    "        #Python-tesseract is a wrapper for Google’s Tesseract-OCR Engine. Here we connect with tesseract, which installed on system\n",
    "\n",
    "        pytesseract.pytesseract.tesseract_cmd = r'C:\\Users\\SURAJ\\AppData\\Local\\Tesseract\\tesseract.exe'\n",
    "\n",
    "        #Passing image to ocr_processing function\n",
    "\n",
    "        data = ocr_processing(filename)\n",
    "\n",
    "        #Converting string to list by using split function, where \\n is used as split parameter\n",
    "\n",
    "        data_extracted_from_image = data.split('\\n')\n",
    "\n",
    "        #Creating new list list_without_null_values, where all null values are removed\n",
    "\n",
    "        list_without_null_values = [i for i in data_extracted_from_image if i]\n",
    "\n",
    "        #Data in list along with index\n",
    "\n",
    "        #for index, value in enumerate(list_without_null_values): \n",
    "        #    print(index, value)\n",
    "\n",
    "        #Check if the repory belongs to approved lab and test\n",
    "\n",
    "        if (list_without_null_values[0] in configuration.approved_labs) \\\n",
    "                        and (list_without_null_values[20].replace(\"Test Name : \",\"\") in configuration.approved_tests):\n",
    "\n",
    "            #Creating dict with report details\n",
    "\n",
    "            default_dict = {\n",
    "            'Lab_Name':list_without_null_values[0],\n",
    "            'Patient_Name':list_without_null_values[4],\n",
    "            'Test_Name':list_without_null_values[20],\n",
    "            'Hemoglobin':list_without_null_values[27],\n",
    "            'PCV':list_without_null_values[31],\n",
    "            'RBC':list_without_null_values[35],\n",
    "            'MCV':list_without_null_values[39],\n",
    "            'MCH':list_without_null_values[43],\n",
    "            'MCHC':list_without_null_values[47],\n",
    "            'RDW':list_without_null_values[51],\n",
    "            'TLC':list_without_null_values[55],\n",
    "            'Platelet_Count':list_without_null_values[101],\n",
    "            }\n",
    "\n",
    "            insert_into_db(default_dict)\n",
    "            \n",
    "            text = \"Report Approves and Inserted For Patient Name :- \" + default_dict['Patient_Name']\n",
    "            \n",
    "            return text\n",
    "        \n",
    "        else:\n",
    "\n",
    "            print(\"Invalid File\\Report\")\n",
    "\n",
    "\n",
    "        print(\"File Processing Ended\")\n",
    "        \n",
    "    except:\n",
    "        \n",
    "        print(\"Error occurred during file processing!!\")        "
   ]
  },
  {
   "cell_type": "code",
   "execution_count": 39,
   "metadata": {},
   "outputs": [],
   "source": [
    "#This function will insert data into database\n",
    "\n",
    "def insert_into_db(patient_data_dict):\n",
    "    \n",
    "    print(\"Data insertion in DB Started\")\n",
    "    \n",
    "    con = sqlite3.connect('C:/sqlite/Lab_Reports.db', timeout=10)\n",
    "    \n",
    "    cur = con.cursor()\n",
    "    \n",
    "    sql_query = \"INSERT INTO CITY_PATHOLOGY_LAB_FEVER_PANEL (Patient_Name,Hemoglobin,PCV,RBC,MCV,MCH,MCHC,RDW,TLC,Platelet_Count) VALUES (?,?,?,?,?,?,?,?,?,?)\"\n",
    "    \n",
    "    cur.execute(sql_query,(patient_data_dict['Patient_Name'],patient_data_dict['Hemoglobin'],patient_data_dict['PCV'],  \n",
    "            patient_data_dict['RBC'],patient_data_dict['MCV'],patient_data_dict['MCH'], \n",
    "            patient_data_dict['MCHC'],patient_data_dict['RDW'],patient_data_dict['TLC'], \n",
    "            patient_data_dict['Platelet_Count']))\n",
    "    \n",
    "    con.commit()\n",
    "    \n",
    "    con.close()  \n",
    "    \n",
    "    print(\"Data insertion in DB Ended\")"
   ]
  },
  {
   "cell_type": "code",
   "execution_count": 43,
   "metadata": {},
   "outputs": [],
   "source": [
    "#file_processing('report3.jpg')"
   ]
  }
 ],
 "metadata": {
  "kernelspec": {
   "display_name": "Python 3",
   "language": "python",
   "name": "python3"
  },
  "language_info": {
   "codemirror_mode": {
    "name": "ipython",
    "version": 3
   },
   "file_extension": ".py",
   "mimetype": "text/x-python",
   "name": "python",
   "nbconvert_exporter": "python",
   "pygments_lexer": "ipython3",
   "version": "3.7.7"
  }
 },
 "nbformat": 4,
 "nbformat_minor": 2
}
